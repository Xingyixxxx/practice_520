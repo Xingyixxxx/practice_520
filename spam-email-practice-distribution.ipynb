{
 "cells": [
  {
   "cell_type": "code",
   "execution_count": 1,
   "metadata": {},
   "outputs": [],
   "source": [
    "import numpy as np\n",
    "import pandas as pd\n",
    "import jieba\n",
    "from sklearn.model_selection import train_test_split\n",
    "from sklearn.feature_extraction.text import CountVectorizer\n",
    "from sklearn.feature_extraction.text import TfidfVectorizer\n",
    "from sklearn.naive_bayes import MultinomialNB\n",
    "from sklearn import metrics"
   ]
  },
  {
   "cell_type": "code",
   "execution_count": 2,
   "metadata": {},
   "outputs": [],
   "source": [
    "def read_file():\n",
    "    '''\n",
    "    read the training data file from local HD.\n",
    "    :return: training data，labels\n",
    "    '''\n",
    "    with open(\"data/normal.txt\", encoding=\"utf8\") as normal_f, open(\"data/spam.txt\", encoding=\"utf8\") as spam_f:\n",
    "        normal_data = normal_f.readlines()\n",
    "        spam_data = spam_f.readlines()\n",
    "\n",
    "        normal_label = np.ones(len(normal_data)).tolist()\n",
    "        spam_label = np.zeros(len(spam_data)).tolist()\n",
    "\n",
    "        corpus = normal_data + spam_data\n",
    "\n",
    "        labels = normal_label + spam_label\n",
    "\n",
    "    return corpus, labels"
   ]
  },
  {
   "cell_type": "code",
   "execution_count": 3,
   "metadata": {},
   "outputs": [],
   "source": [
    "def divide_datasets(corpus, labels, test_data_proportion=0.3):\n",
    "    '''\n",
    "    :param corpus: training data\n",
    "    :param labels: labels\n",
    "    :param test_data_proportion:proportion of test data in the whole data set \n",
    "    :return: training data, test data, training labels, test labels\n",
    "    '''\n",
    "    train_X, test_X, train_Y, test_Y = train_test_split(corpus, labels,\n",
    "                                                        test_size=test_data_proportion, random_state=10)\n",
    "    return train_X, test_X, train_Y, test_Y"
   ]
  },
  {
   "cell_type": "code",
   "execution_count": 4,
   "metadata": {},
   "outputs": [],
   "source": [
    "def bow_extractor(corpus, ngram_range=(1, 2)):\n",
    "    '''\n",
    "    extract features using Bow model.\n",
    "    :return: the vectorizer and the extrated features.\n",
    "    '''\n",
    "    vectorizer = CountVectorizer(min_df=1, ngram_range=ngram_range,binary=False,tokenizer=jieba.lcut)\n",
    "    features = vectorizer.fit_transform(corpus)\n",
    "    return vectorizer, features"
   ]
  },
  {
   "cell_type": "code",
   "execution_count": 5,
   "metadata": {},
   "outputs": [],
   "source": [
    "def tfidf_extractor(corpus, ngram_range=(1, 2)):\n",
    "    '''\n",
    "    extract features using Tfidf model.\n",
    "    :return: the vectorizer and the extrated features.\n",
    "    '''\n",
    "    vectorizer = TfidfVectorizer(min_df=1,norm='l2',smooth_idf=False,use_idf=True,ngram_range=ngram_range,tokenizer=jieba.lcut)\n",
    "    features = vectorizer.fit_transform(corpus)\n",
    "    return vectorizer, features"
   ]
  },
  {
   "cell_type": "code",
   "execution_count": 6,
   "metadata": {},
   "outputs": [],
   "source": [
    "def show_metrics(true_labels, predicted_labels):\n",
    "    print('accuracy:', np.round(metrics.accuracy_score(true_labels,predicted_labels),4))\n",
    "    print('precision:', np.round(metrics.precision_score(true_labels,predicted_labels,average='weighted'),4))\n",
    "    print('recall:', np.round(metrics.recall_score(true_labels,predicted_labels,average='weighted'),4))\n",
    "    print('F1:', np.round(metrics.f1_score(true_labels,predicted_labels,average='weighted'),4))"
   ]
  },
  {
   "cell_type": "code",
   "execution_count": 7,
   "metadata": {},
   "outputs": [],
   "source": [
    "def evaluate_model(classifier,train_features,train_labels,test_features,test_labels):\n",
    "    classifier.fit(train_features,train_labels)\n",
    "    predictions=classifier.predict(test_features)\n",
    "    show_metrics(true_labels=test_labels,predicted_labels=predictions)\n",
    "    return predictions"
   ]
  },
  {
   "cell_type": "markdown",
   "metadata": {},
   "source": [
    "## Test Data Function\n",
    "- The test data is in CSV format\n",
    "- Reads the CSV and extracts the Chinese content\n",
    "- Randomly selects 10 samples from the test set\n",
    "- Displays the test samples before testing"
   ]
  },
  {
   "cell_type": "code",
   "execution_count": 8,
   "metadata": {},
   "outputs": [],
   "source": [
    "import re\n",
    "import random\n",
    "\n",
    "# 定义处理函数，提取中文内容\n",
    "def extract_chinese(text):\n",
    "    pattern = r'[\\u4e00-\\u9fa5]+'\n",
    "    chinese_only = ''.join(re.findall(pattern, text))\n",
    "    return chinese_only\n",
    "\n"
   ]
  },
  {
   "cell_type": "code",
   "execution_count": 9,
   "metadata": {},
   "outputs": [],
   "source": [
    "def final_test():\n",
    "\n",
    "    # read test data\n",
    "    df_test = pd.read_csv('./data/test.csv')\n",
    "    print(f'test data shape: {df_test.shape}')\n",
    "\n",
    "    # only keep chinese part\n",
    "    df_test['processed_content'] = df_test['content'].apply(extract_chinese)\n",
    "\n",
    "    # randomly select 10 samples\n",
    "    sample_size = 10\n",
    "    if len(df_test) < sample_size:\n",
    "        sample_size = len(df_test)\n",
    "        print(f'\\ndatabase only have {len(df_test)} records, will use all')\n",
    "\n",
    "    sample_indices = random.sample(range(len(df_test)), sample_size)\n",
    "    sample_data = df_test.iloc[sample_indices]\n",
    "\n",
    "    print(f'\\nrandomly selected {sample_size} samples:')\n",
    "    for i, (idx, row) in enumerate(sample_data.iterrows()):\n",
    "        print(f'sample {i+1}:')\n",
    "        print(row['processed_content'])\n",
    "        print('-' * 50)\n",
    "\n",
    "    selected_samples = sample_data['processed_content'].tolist()\n",
    "\n",
    "    return selected_samples"
   ]
  },
  {
   "cell_type": "code",
   "execution_count": 10,
   "metadata": {},
   "outputs": [
    {
     "name": "stderr",
     "output_type": "stream",
     "text": [
      "/opt/anaconda3/envs/homework/lib/python3.13/site-packages/sklearn/feature_extraction/text.py:517: UserWarning: The parameter 'token_pattern' will not be used since 'tokenizer' is not None'\n",
      "  warnings.warn(\n",
      "Building prefix dict from the default dictionary ...\n",
      "Loading model from cache /var/folders/07/3p41fxw138b_lz7hdy4spqjh0000gn/T/jieba.cache\n",
      "Loading model cost 1.015 seconds.\n",
      "Prefix dict has been built successfully.\n"
     ]
    },
    {
     "name": "stdout",
     "output_type": "stream",
     "text": [
      "Naive Bayes classifier with BOW:\n",
      "accuracy: 0.995\n",
      "precision: 0.995\n",
      "recall: 0.995\n",
      "F1: 0.995\n",
      "Naive Bayes classifier with Tfidf:\n",
      "accuracy: 0.99\n",
      "precision: 0.9901\n",
      "recall: 0.99\n",
      "F1: 0.99\n",
      "test data shape: (12924, 1)\n",
      "\n",
      "randomly selected 10 samples:\n",
      "sample 1:\n",
      "您好很高兴也很感谢您能打开并阅读这封信也许从此我们会成为朋友至少是合作朋友也许会是有缘分的聊友我下面所讲述的事情会被很多人误解为不正当行为但也许您会有您独到的看法我的准则其实很简单不是欺骗只是想在友好互助的前提下寻求有缘的朋友首先这不是一个天上掉馅饼的好事付出将是辛苦的特别是初期收获当然也是同比例的其次这不带有任何虚假或者欺骗性其中的原委步骤环节都给每个人讲述得很清楚还有这也不是一个什么人都能做的一件事情最少您比较忙碌时间无暇顾及时不能从事不过即便您我无缘合作这件事也许对您的思想还是会有一定的启发或者帮助最后希望您能有分钟的时间初步了解和简单分析这件事加入这项网络活动您可以得到一个您自己的网络主页如果您暂时没有网页设计修改技术您可以原封不动这个主页如果您有这方面的技能那就可以按照您自己想像去修改这个主页还有您在网络展现您的思想才华的方式主要通过您的主页内容以及您能让多少人认知并参加这项网络活动当您做到简单的这两项之后这项活动便可以给您带来一定的物质财富这项财富收入也许没您现在的好但很可能是要远远好于您现在的情况如果您不是企业主或者商人那您以后会因为这项活动给你带来的惊喜而遗憾为何不早一点了解到这项信息当然您只看到这些的时候还是很不清楚这到底是怎么回事如果您还有继续了解的兴趣请到我的这个个人主页上去看看\n",
      "--------------------------------------------------\n",
      "sample 2:\n",
      "实用操作即时全国职业经理人资格证书课程班年月日主办香港光华管理学院承办深圳市一二三管理咨询有限公司你的公司有这样的困惑吗你的管理层高效有力吗企业的竞争力是由占企业的管理人员产生的公司名誉主席巴尼维克甚至说成功是的战略加的执行没有一支高绩效的职业经理管理队伍缺乏管理操作能力有多少企业的最高管理者没有办法让公司按照自己设定的方向发展疲于应付各种不应该出现的问题六天的时间让您以及您的团队提高市场竞争力实现从优秀到卓越本课程已为近千名知企业中高层管理人员提供训练及认证为数十家企业提供全套内训受到企业的高度认可为什么参加本课程任何企业要想在现代市场竞争中建立持久的竞争优势取得持续的生存发展能力非常重要的一个因素是拥有一支合格的职业化程度很高的职业经理人队伍要想成为合格的职业经理人必须具备胜任职业经理工作的相应管理技能要想具备这些基本管理技能除了在管理工作中不断学习体会以外最佳途径是接受相应的培训本课程通过案例实战模拟等生动活泼的培训形式系统讲授职业经理人需要具备的各项基本管理技能经过有目的性的训练掌握实用的管理技能提升其管理的实务能力促使其转变观念达到改变行为的目的从而达成提升公司整体运营能力提高市场竞争力的目的此次培训会议的训练特色操作性管理技能是动手能力实战能力职业经理人管理技能训练聚焦于管理的实际操作价值改变行为对企业来说不能带管理行为的改变从而提升绩效的训练是没有任何意义的本训练将职业经理的必备管理技能设计成一个个的能力点使经理人通过抓能力点而达到改变行为转变观念的目的理论结合实践我们的培训讲师均受过系统全面的企业管理高等教育一般都具有年的各类企业包括民营企业大型上市公司乃至知名跨国企业的管理实操经验在这些企业担任从部门经理到总经理等各种主要职务并曾服务过国内多家知名的咨询机构这种丰富的理论功底和实操经验是我们服务企业的保证此次培训会议的训练大纲管理技能一角色认知如果在足球场上后卫老打前峰的位置前峰老打后卫的位置这支球队能赢吗我们企业这支队伍象这样的角色错位角色缺位的事还少吗训练摘要作为下属职业经理应当是经营者的替身作为同事职业经理应当互为内部客户管理技能二时间管理一项国际调查表明一位糟糕的经理与一位高效的经理工作效率相差可达倍以上你的经理是忙乱的经理还是高效的经理呢训练摘要时间管理的四个原则四代时间管理时间管理规划时间管理的改进方法管理技能三有效沟通管理上有一个著名的双即经理人以上的时间用在了沟通上如开会谈判指示评估可是工作中的以上的障碍都是在沟通中产生的一个沟通不好的经理人你能寄希望他领导好一队人吗做好工作吗训练摘要沟通对象分析沟通的三种方式与上下级沟通的技能管理技能四目标管理为什么有的公司一千个人两千条心为什么目标变来变去为什么计划赶不上变化为什么下属们对目标不满如何解决训练摘要目标管理的原则设定目标的步骤如何建立目标体系图目标的执行管理技能五激励加薪晋升等等当然是激励下属的当家菜可是绝大多数经理是无权决定下属的加薪晋升等方面的难道他们在激励下属上就无事可做了吗训练摘要激励是什么激励的分析激励的策略动态激励静态激励管理技能六绩效管理为什么绩效评估难搞为什么考核往往难以量化作为一位职业经理自己扮演什么角色才能使绩效评估起到发展员工绩效的目标训练摘要绩效循环如何设定绩效标准如何使绩效标准量化主基二元法与平衡计分卡管理技能七领导很简单领导并不是说你被任命或坐在某个位置上背后不服你的人多的是只有具有影响力让别人心悦诚服地追随你才是领导训练摘要权力戒律几种领导风格下属发展的四个阶段不同领导风格对不同下属的应用管理技能八创新管理市场竞争越来越激烈我们只有不断求新求变才能取得更多的竞争优势训练摘要什么是创新管理如何创新创新的误区是什么管理技能九授权为什么你整天忙得焦头烂额下属反而说你不授权许多经理都说自己想授权但是下属能力不够真是如此吗训练摘要授权的四种类型授权的五个原则建立授权约定管理技能十团队发展将个土豆装在一只麻袋里是什么呢只不过成了一麻袋土豆罢了土豆之间没有任何关系一盘散沙的队伍没有团队精神的队伍只不过在一起上班罢了并没有形成一只团队那么职业经理如何发展一支团队呢训练摘要对团队的几个误解团队角色组织角色与团队角色处理团队冲突的几种方式管理技能十一企业文化塑造任何一个公司的发展从优秀到卓越从根本上讲是公司企业文化的形成和发展的固化过程因而作为一个合格的职业经理人一定要有企业文化的观念和意识训练摘要什么是企业文化企业文化的作用如何培养推动公司企业文化的建立和发展管理技能十二职业经理人要注意的几个管理误区职业经理人在工作中经常会忽略的几个管理误区在企业中只要加以注意完全是可以避免的问题让你多加注意训练摘要职业经理人要注意的几个管理误区列举讨论证书颁发通过学习测试测试合格者颁发由香港光华管理学院签署的全国职业经理人资格证书学员对象企业总经理副总各部门经理建议总经理带部门经理参加上课时间年月日年月日年月日上课地点深圳北大研究院收费标准元人含六天培训费资料费午餐费证书费咨询电话王小姐传真在线联系方式\n",
      "--------------------------------------------------\n",
      "sample 3:\n",
      "我们的宗旨中国最佳的区域性网站绍兴旅游网旅游业的助手旅游者的朋友网络实名网上预订优惠多多全国订房订票网折优惠绍兴旅游网论坛让绍兴走向世界让世界了解绍兴\n",
      "--------------------------------------------------\n",
      "sample 4:\n",
      "不会建网站不懂做网页不擅长四处宣传自己毕业后进入社会从事一份没什么前途的工作你是不是和原来的我一样那就和现在的我一起开始新的事业吧建站代理网完成一切你不擅长的工作你只要把自己代理的网站告诉别人就完成的所有工作至于收入抱歉我的数学不是很好特别是阶乘老是搞不懂所以没办法告诉你详细的数字一开始我也是不相信的但是仅是因为好奇看了一下就开始了现在的兼职赚钱事业你是好奇的人么来看看吧\n",
      "--------------------------------------------------\n",
      "sample 5:\n",
      "哈哈不急我和大学同学里面都还没有下一代标题公公婆婆马上就到了什么时候到你啊再过几个月我表妹的和我堂兄的孩子都要出生拉现在看看生小孩子蛮有趣啊幸福就是冬夜里喝一杯热茶接一个老朋友的电话怀里抱着我的猫象猫一样被最爱的人抱在怀里\n",
      "--------------------------------------------------\n",
      "sample 6:\n",
      "您好终于找到了操网性感的乳房滑嫩的阴道岁女孩滚圆而又粉红的大奶性感的屁股插进又滑又嫩嫩的阴道夹着粗大的滑爽滑爽的赶快去操网放心绝对没有病毒有病毒我死老爸\n",
      "--------------------------------------------------\n",
      "sample 7:\n",
      "代开发票贵公司负责人经理财务您好我是深圳市实达实业有限公司的国内部分省市设有分公司我司实力雄厚有着良好的社会关系因进项较多现完成不了每月销售额度每月有一部分增值税电脑发票左右和普通商品销售税电脑运输服务广告建筑等发票左右优惠代开或合作点数较低还可以根据所做数量额度的大小来商讨优惠的点数本公司郑重承诺所用绝对是真票更希望能够有机会与贵司合作如贵司在发票的真伪方面有任何疑虑或担心可上网查证或我司直接与贵司去税务局抵扣核对彼此合作一次必成永久朋友此信息长期有效如须进一步洽商详情请电小时业务热线联系人王涛顺祝商祺\n",
      "--------------------------------------------------\n",
      "sample 8:\n",
      "广州满堂红运输有限公司本公司是定额定期纳税的有限责任制企业有国际运输发票国内各地运输发票可向外代开税点从优欢迎来电联系人黄先生电话传真邮电广洲天河广场栋\n",
      "--------------------------------------------------\n",
      "sample 9:\n",
      "和型温湿度遥控系统是广州庆瑞电子科技有限公司自行研制开发的高科技产品该产品采用计算机技术对环境温度湿度进行远程自动多点检测和控制本系统广泛应用于高低压配电房计算机房仓库等需要对环境温湿度有要求的场合型温湿度遥控系统与除湿设备和冷却设备等各种设备配套使用用于高低压配电房计算机房仓库等需要对环境温度湿度有要求的场合起到自动防潮除湿降温等作用当环境温度指示超过温度设定值上限时它能自动接通冷却设备电源当温度降低到温度设定下限时切断冷却设备电源保证理想的环境温度当环境湿度指示超过湿度设定值上限时它能自动接通除湿器电源使环境湿度降低当湿度下降到低于湿度设定值下限时湿控器自动切断除湿器电源保证理想的环境湿度当然也可根据客户的要求做成加热和加湿控制模式默认出厂设置为降温和除湿模式型温湿度遥控系统是以功能很强的单片机为主的智能型仪器所有的子表串联到个人电脑上的接口即所谓的串口子表本身可以显示和设置温湿度值个人电脑上也可以通过软件对子表进行数据采集和发送指令显示和控制子表各种参数起到集中显示和控制的目的\n",
      "--------------------------------------------------\n",
      "sample 10:\n",
      "代开发票贵公司负责人经理财务您好我是深圳市广通实业有限公司我司实力雄厚有着良好的社会关系因进项较多每月有多种普通发票国税地税左右增值发票和海关专用交款书左右向外优惠代开还可以根据数量的大小来衡量优惠的点数欢迎您的来电洽谈本公司郑重承诺票据均可上网查询或抵扣验证良好的信誉是我们合作的前提期待你的合作需详情请联系本公司兼代理进出口报关商检核销产品批文此信息长期有效业务手机邮箱联系人陈钟深圳市广通实业有限公司\n",
      "--------------------------------------------------\n",
      "bow input predictions:  [1. 1. 0. 1. 1. 0. 0. 0. 1. 0.]\n",
      "tfidf input predictions:  [1. 1. 0. 1. 1. 0. 0. 0. 1. 0.]\n"
     ]
    }
   ],
   "source": [
    "def main():\n",
    "    #prepare trainging data set\n",
    "    corpus,labels=read_file()\n",
    "    train_X, test_X, train_Y, test_Y=divide_datasets(corpus,labels)\n",
    "    \n",
    "    #blank1\n",
    "    #convert training data into vectors in Bow\n",
    "    bow_vectorizer, bow_train_features = bow_extractor(train_X)\n",
    "    bow_test_features = bow_vectorizer.transform(test_X)\n",
    "    \n",
    "    #blank2\n",
    "    #convert training data into vectors in Tfidf\n",
    "    tfidf_vectorizer, tfidf_train_features = tfidf_extractor(train_X)\n",
    "    tfidf_test_features = tfidf_vectorizer.transform(test_X)\n",
    "    \n",
    "    #construct the Naive Bayes classifier objectc for Bow and Tfidf\n",
    "    mnb_bow = MultinomialNB()\n",
    "    mnb_tfidf = MultinomialNB()\n",
    "    \n",
    "    #train the Bow model and evaluate it\n",
    "    print(\"Naive Bayes classifier with BOW:\")\n",
    "    mnb_bow_predictions = evaluate_model(classifier=mnb_bow,\n",
    "                                                       train_features=bow_train_features,\n",
    "                                                       train_labels=train_Y,\n",
    "                                                       test_features=bow_test_features,\n",
    "                                                       test_labels=test_Y)\n",
    "    \n",
    "    #train the Tfidf model and evaluate it\n",
    "    print(\"Naive Bayes classifier with Tfidf:\")\n",
    "    mnb_tfidf_predictions = evaluate_model(classifier=mnb_tfidf,\n",
    "                                                       train_features=tfidf_train_features,\n",
    "                                                       train_labels=train_Y,\n",
    "                                                       test_features=tfidf_test_features,\n",
    "                                                       test_labels=test_Y)\n",
    "\n",
    "    #blank3\n",
    "    #enter some new data to feel the accuracy of the program\n",
    "    input = final_test()\n",
    "    \n",
    "    bow_input_features = bow_vectorizer.transform(input)\n",
    "    tfidf_input_features = tfidf_vectorizer.transform(input)\n",
    "    print('bow input predictions: ',mnb_bow.predict(bow_input_features))\n",
    "    print('tfidf input predictions: ',mnb_tfidf.predict(tfidf_input_features))\n",
    "    \n",
    "main()"
   ]
  },
  {
   "cell_type": "code",
   "execution_count": null,
   "metadata": {},
   "outputs": [],
   "source": []
  }
 ],
 "metadata": {
  "kernelspec": {
   "display_name": "homework",
   "language": "python",
   "name": "python3"
  },
  "language_info": {
   "codemirror_mode": {
    "name": "ipython",
    "version": 3
   },
   "file_extension": ".py",
   "mimetype": "text/x-python",
   "name": "python",
   "nbconvert_exporter": "python",
   "pygments_lexer": "ipython3",
   "version": "3.13.3"
  }
 },
 "nbformat": 4,
 "nbformat_minor": 4
}
